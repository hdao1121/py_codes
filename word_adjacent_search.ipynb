{
  "nbformat": 4,
  "nbformat_minor": 0,
  "metadata": {
    "colab": {
      "name": "Untitled2.ipynb",
      "version": "0.3.2",
      "provenance": []
    },
    "kernelspec": {
      "name": "python3",
      "display_name": "Python 3"
    }
  },
  "cells": [
    {
      "metadata": {
        "id": "RV3Rt2p8KkQI",
        "colab_type": "code",
        "colab": {}
      },
      "cell_type": "code",
      "source": [
        "# Input\n",
        "\n",
        "words = [\"oath\", \"eat\", \"tung\"]\n",
        "board = [\n",
        "    ['o', 'a', 'a', 'n'],\n",
        "    ['e', 't', 'a', 'e'],\n",
        "    ['i', 'h', 'k', 'r'],\n",
        "    ['t', 'u', 'n', 'h']\n",
        "]\n",
        "searchList = []"
      ],
      "execution_count": 0,
      "outputs": []
    },
    {
      "metadata": {
        "id": "6ICV1Kd4KqlT",
        "colab_type": "code",
        "colab": {}
      },
      "cell_type": "code",
      "source": [
        "def genCursor(cursor):\n",
        "    x = cursor[0]\n",
        "    y = cursor[1]\n",
        "\n",
        "    set = []\n",
        "    if (x - 1) > 0:\n",
        "        set.append((x - 1, y))\n",
        "    if (x + 1) < 4:\n",
        "        set.append((x +1, y))\n",
        "    if (y - 1) > 0:\n",
        "        set.append((x, y - 1))\n",
        "    if (y + 1) < 4:\n",
        "        set.append((x, y + 1))\n",
        "    return set"
      ],
      "execution_count": 0,
      "outputs": []
    },
    {
      "metadata": {
        "id": "LdT_gP9SKuC8",
        "colab_type": "code",
        "colab": {}
      },
      "cell_type": "code",
      "source": [
        "def explore(word, checkboard, cursor = (0,0), index = 0):\n",
        "    y = cursor[0]\n",
        "    x = cursor[1]\n",
        "    isChecked = checkboard[y][x]\n",
        "    checkboard[y][x] = True\n",
        "    character = board[y][x]\n",
        "    if len(word) == index:\n",
        "        return True\n",
        "    elif not isChecked and word[index] == character:\n",
        "        for c in genCursor(cursor):\n",
        "            if explore(word, checkboard, c, index + 1):\n",
        "                return True"
      ],
      "execution_count": 0,
      "outputs": []
    },
    {
      "metadata": {
        "id": "UmbZO_87Kyot",
        "colab_type": "code",
        "colab": {}
      },
      "cell_type": "code",
      "source": [
        "for word in words:\n",
        "    start = []\n",
        "    for iy, i in enumerate(board):\n",
        "        for jx, j in enumerate(i):\n",
        "            if word[:1] == j:\n",
        "                start.append((iy, jx))\n",
        "    for cursor in start:\n",
        "        if explore(word, [[False] * 4 for i in range(4)], cursor):\n",
        "            searchList.append(word)"
      ],
      "execution_count": 0,
      "outputs": []
    },
    {
      "metadata": {
        "id": "8zG4H0DQK2gA",
        "colab_type": "code",
        "colab": {
          "base_uri": "https://localhost:8080/",
          "height": 34
        },
        "outputId": "8c7fa149-b7d3-4e9b-fa05-3010204cfad5"
      },
      "cell_type": "code",
      "source": [
        "# Output\n",
        "searchList"
      ],
      "execution_count": 5,
      "outputs": [
        {
          "output_type": "execute_result",
          "data": {
            "text/plain": [
              "['oath', 'eat']"
            ]
          },
          "metadata": {
            "tags": []
          },
          "execution_count": 5
        }
      ]
    }
  ]
}