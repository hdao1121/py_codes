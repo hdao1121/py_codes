{
  "nbformat": 4,
  "nbformat_minor": 0,
  "metadata": {
    "colab": {
      "name": "Untitled3.ipynb",
      "version": "0.3.2",
      "provenance": []
    },
    "kernelspec": {
      "name": "python3",
      "display_name": "Python 3"
    }
  },
  "cells": [
    {
      "metadata": {
        "id": "HQAmb3lMJCjF",
        "colab_type": "code",
        "colab": {}
      },
      "cell_type": "code",
      "source": [
        "import numpy as np"
      ],
      "execution_count": 0,
      "outputs": []
    },
    {
      "metadata": {
        "id": "fLSUaEwFJamc",
        "colab_type": "code",
        "colab": {}
      },
      "cell_type": "code",
      "source": [
        "p = np.array([[1,1],[3,2],[5,3],[4,1],[2,3],[1,4]])\n",
        "(maxX, maxY) = np.amax(p, axis=0)"
      ],
      "execution_count": 0,
      "outputs": []
    },
    {
      "metadata": {
        "id": "DnG9UghfLlew",
        "colab_type": "code",
        "colab": {
          "base_uri": "https://localhost:8080/",
          "height": 102
        },
        "outputId": "0c48fb55-b22a-4191-961b-f05cd2ac6c01"
      },
      "cell_type": "code",
      "source": [
        "maxAxis = np.amax(p, axis=0)\n",
        "board = np.full((maxY+1, maxX+1), False)\n",
        "invBoard = np.flip(board, 1)\n",
        "\n",
        "for t in p:\n",
        "  x = t[0]\n",
        "  y = t[1]\n",
        "  board[y][x] = True\n",
        "board"
      ],
      "execution_count": 3,
      "outputs": [
        {
          "output_type": "execute_result",
          "data": {
            "text/plain": [
              "array([[False, False, False, False, False, False],\n",
              "       [False,  True, False, False,  True, False],\n",
              "       [False, False, False,  True, False, False],\n",
              "       [False, False,  True, False, False,  True],\n",
              "       [False,  True, False, False, False, False]])"
            ]
          },
          "metadata": {
            "tags": []
          },
          "execution_count": 3
        }
      ]
    },
    {
      "metadata": {
        "id": "eAGVa7B9n0Wv",
        "colab_type": "code",
        "colab": {}
      },
      "cell_type": "code",
      "source": [
        "currentMax = max(max(np.sum(board, axis=1)),max(np.sum(board, axis=0)))\n",
        "for y in range(maxY):\n",
        "  maxYDiagonal = max(sum(np.diagonal(board, -y)), sum(np.diagonal(invBoard, -y)))\n",
        "  currentMax = maxYDiagonal if currentMax < maxYDiagonal else currentMax\n",
        "for x in range(maxX):\n",
        "  maxXDiagonal = max(sum(np.diagonal(board, x)), sum(np.diagonal(invBoard, x)))\n",
        "  currentMax = maxYDiagonal if currentMax < maxXDiagonal else currentMax"
      ],
      "execution_count": 0,
      "outputs": []
    },
    {
      "metadata": {
        "id": "3uvcxj4_xgqZ",
        "colab_type": "code",
        "colab": {
          "base_uri": "https://localhost:8080/",
          "height": 34
        },
        "outputId": "60d23aa2-2979-4e6d-9b5b-f386e0f5a1fb"
      },
      "cell_type": "code",
      "source": [
        "currentMax"
      ],
      "execution_count": 5,
      "outputs": [
        {
          "output_type": "execute_result",
          "data": {
            "text/plain": [
              "4"
            ]
          },
          "metadata": {
            "tags": []
          },
          "execution_count": 5
        }
      ]
    }
  ]
}